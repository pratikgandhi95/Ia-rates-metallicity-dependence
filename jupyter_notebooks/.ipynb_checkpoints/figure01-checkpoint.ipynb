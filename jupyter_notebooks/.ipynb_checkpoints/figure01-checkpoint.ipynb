{
 "cells": [
  {
   "cell_type": "markdown",
   "metadata": {},
   "source": [
    "#### Recreate Figure 1 in Gandhi, P. J., et al. (2022)\n",
    "\n",
    "@author: Pratik Gandhi <pjgandhi@ucdavis.edu>"
   ]
  },
  {
   "cell_type": "code",
   "execution_count": 1,
   "metadata": {},
   "outputs": [],
   "source": [
    "# importing necessary packages\n",
    "import numpy as np\n",
    "import matplotlib.pyplot as plt\n",
    "%matplotlib inline\n",
    "from scipy.optimize import curve_fit\n",
    "from astropy.io import ascii"
   ]
  },
  {
   "cell_type": "code",
   "execution_count": 2,
   "metadata": {},
   "outputs": [],
   "source": [
    "# specific matplotlib rc settings used for figures in the paper\n",
    "plt.rcParams['legend.frameon'] = False\n",
    "plt.rcParams['savefig.format'] = 'pdf'\n",
    "plt.rcParams['legend.handletextpad'] = 0.3\n",
    "plt.rcParams['figure.figsize'] = (15, 6.5)\n",
    "plt.rcParams['lines.linewidth'] = 2.5\n",
    "plt.rcParams['font.family'] = 'serif'\n",
    "plt.rcParams['font.style'] = 'normal'\n",
    "plt.rcParams['font.variant'] = 'normal'\n",
    "plt.rcParams['font.weight'] = 'normal'\n",
    "plt.rcParams['font.stretch'] = 'normal'\n",
    "plt.rcParams['font.size'] = 25.0\n",
    "plt.rcParams['mathtext.fontset'] = 'dejavuserif'\n",
    "plt.rcParams['axes.linewidth'] = 2.5\n",
    "plt.rcParams['axes.labelsize'] = 25.0\n",
    "plt.rcParams['axes.labelpad'] = 6.0\n",
    "plt.rcParams['axes.titlepad'] = 8.0\n",
    "plt.rcParams['axes.titlesize'] = 25.0\n",
    "plt.rcParams['axes.formatter.limits'] = -7,7\n",
    "plt.rcParams['xtick.major.size'] = 15.0\n",
    "plt.rcParams['ytick.major.size'] = 15.0\n",
    "plt.rcParams['xtick.minor.size'] = 8.0\n",
    "plt.rcParams['ytick.minor.size'] = 8.0\n",
    "plt.rcParams['xtick.major.pad'] = 12.0\n",
    "plt.rcParams['ytick.major.pad'] = 12.0\n",
    "plt.rcParams['xtick.minor.pad'] = 12.0\n",
    "plt.rcParams['ytick.minor.pad'] = 12.0\n",
    "plt.rcParams['xtick.major.width'] = 1.6\n",
    "plt.rcParams['ytick.major.width'] = 1.6\n",
    "plt.rcParams['xtick.minor.width'] = 0.8\n",
    "plt.rcParams['ytick.minor.width'] = 0.8\n",
    "plt.rcParams['xtick.direction'] = 'in'\n",
    "plt.rcParams['ytick.direction'] = 'in'\n",
    "plt.rcParams['legend.loc'] = 'best'\n",
    "plt.rcParams['legend.numpoints'] = 1\n",
    "plt.rcParams['legend.scatterpoints'] = 1\n",
    "plt.rcParams['figure.constrained_layout.use'] = False"
   ]
  },
  {
   "cell_type": "markdown",
   "metadata": {},
   "source": [
    "#### Function to be used later"
   ]
  },
  {
   "cell_type": "code",
   "execution_count": 3,
   "metadata": {},
   "outputs": [],
   "source": [
    "def powerLaw(x, a, b):\n",
    "    return a*np.power(x,b)"
   ]
  },
  {
   "cell_type": "markdown",
   "metadata": {},
   "source": [
    "#### Handling i/o; reading in or initialising values for data points"
   ]
  },
  {
   "cell_type": "code",
   "execution_count": 5,
   "metadata": {},
   "outputs": [
    {
     "ename": "FileNotFoundError",
     "evalue": "[Errno 2] No such file or directory: '../data/SFR_z0_sims-FIRE2_500MyrLBT.txt'",
     "output_type": "error",
     "traceback": [
      "\u001b[0;31m---------------------------------------------------------------------------\u001b[0m",
      "\u001b[0;31mFileNotFoundError\u001b[0m                         Traceback (most recent call last)",
      "\u001b[0;32m<ipython-input-5-8843e465a911>\u001b[0m in \u001b[0;36m<module>\u001b[0;34m\u001b[0m\n\u001b[1;32m      1\u001b[0m \u001b[0;31m# reading in values for FIRE sims\u001b[0m\u001b[0;34m\u001b[0m\u001b[0;34m\u001b[0m\u001b[0;34m\u001b[0m\u001b[0m\n\u001b[0;32m----> 2\u001b[0;31m \u001b[0mdata_sim\u001b[0m \u001b[0;34m=\u001b[0m \u001b[0mascii\u001b[0m\u001b[0;34m.\u001b[0m\u001b[0mread\u001b[0m\u001b[0;34m(\u001b[0m\u001b[0;34m'../data/SFR_z0_sims-FIRE2_500MyrLBT.txt'\u001b[0m\u001b[0;34m)\u001b[0m\u001b[0;34m\u001b[0m\u001b[0;34m\u001b[0m\u001b[0m\n\u001b[0m\u001b[1;32m      3\u001b[0m \u001b[0msimID\u001b[0m \u001b[0;34m=\u001b[0m \u001b[0mdata_sim\u001b[0m\u001b[0;34m[\u001b[0m\u001b[0;34m'col1'\u001b[0m\u001b[0;34m]\u001b[0m\u001b[0;34m\u001b[0m\u001b[0;34m\u001b[0m\u001b[0m\n\u001b[1;32m      4\u001b[0m \u001b[0mmass_sim\u001b[0m \u001b[0;34m=\u001b[0m \u001b[0mdata_sim\u001b[0m\u001b[0;34m[\u001b[0m\u001b[0;34m'col2'\u001b[0m\u001b[0;34m]\u001b[0m\u001b[0;34m\u001b[0m\u001b[0;34m\u001b[0m\u001b[0m\n\u001b[1;32m      5\u001b[0m \u001b[0mSFR_sim\u001b[0m \u001b[0;34m=\u001b[0m \u001b[0mdata_sim\u001b[0m\u001b[0;34m[\u001b[0m\u001b[0;34m'col3'\u001b[0m\u001b[0;34m]\u001b[0m\u001b[0;34m\u001b[0m\u001b[0;34m\u001b[0m\u001b[0m\n",
      "\u001b[0;32m~/anaconda3/lib/python3.8/site-packages/astropy/io/ascii/ui.py\u001b[0m in \u001b[0;36mread\u001b[0;34m(table, guess, **kwargs)\u001b[0m\n\u001b[1;32m    338\u001b[0m         \u001b[0;31m# through below to the non-guess way so that any problems result in a\u001b[0m\u001b[0;34m\u001b[0m\u001b[0;34m\u001b[0m\u001b[0;34m\u001b[0m\u001b[0m\n\u001b[1;32m    339\u001b[0m         \u001b[0;31m# more useful traceback.\u001b[0m\u001b[0;34m\u001b[0m\u001b[0;34m\u001b[0m\u001b[0;34m\u001b[0m\u001b[0m\n\u001b[0;32m--> 340\u001b[0;31m         \u001b[0mdat\u001b[0m \u001b[0;34m=\u001b[0m \u001b[0m_guess\u001b[0m\u001b[0;34m(\u001b[0m\u001b[0mtable\u001b[0m\u001b[0;34m,\u001b[0m \u001b[0mnew_kwargs\u001b[0m\u001b[0;34m,\u001b[0m \u001b[0mformat\u001b[0m\u001b[0;34m,\u001b[0m \u001b[0mfast_reader\u001b[0m\u001b[0;34m)\u001b[0m\u001b[0;34m\u001b[0m\u001b[0;34m\u001b[0m\u001b[0m\n\u001b[0m\u001b[1;32m    341\u001b[0m         \u001b[0;32mif\u001b[0m \u001b[0mdat\u001b[0m \u001b[0;32mis\u001b[0m \u001b[0;32mNone\u001b[0m\u001b[0;34m:\u001b[0m\u001b[0;34m\u001b[0m\u001b[0;34m\u001b[0m\u001b[0m\n\u001b[1;32m    342\u001b[0m             \u001b[0mguess\u001b[0m \u001b[0;34m=\u001b[0m \u001b[0;32mFalse\u001b[0m\u001b[0;34m\u001b[0m\u001b[0;34m\u001b[0m\u001b[0m\n",
      "\u001b[0;32m~/anaconda3/lib/python3.8/site-packages/astropy/io/ascii/ui.py\u001b[0m in \u001b[0;36m_guess\u001b[0;34m(table, read_kwargs, format, fast_reader)\u001b[0m\n\u001b[1;32m    498\u001b[0m \u001b[0;34m\u001b[0m\u001b[0m\n\u001b[1;32m    499\u001b[0m             \u001b[0mreader\u001b[0m\u001b[0;34m.\u001b[0m\u001b[0mguessing\u001b[0m \u001b[0;34m=\u001b[0m \u001b[0;32mTrue\u001b[0m\u001b[0;34m\u001b[0m\u001b[0;34m\u001b[0m\u001b[0m\n\u001b[0;32m--> 500\u001b[0;31m             \u001b[0mdat\u001b[0m \u001b[0;34m=\u001b[0m \u001b[0mreader\u001b[0m\u001b[0;34m.\u001b[0m\u001b[0mread\u001b[0m\u001b[0;34m(\u001b[0m\u001b[0mtable\u001b[0m\u001b[0;34m)\u001b[0m\u001b[0;34m\u001b[0m\u001b[0;34m\u001b[0m\u001b[0m\n\u001b[0m\u001b[1;32m    501\u001b[0m             _read_trace.append({'kwargs': copy.deepcopy(guess_kwargs),\n\u001b[1;32m    502\u001b[0m                                 \u001b[0;34m'Reader'\u001b[0m\u001b[0;34m:\u001b[0m \u001b[0mreader\u001b[0m\u001b[0;34m.\u001b[0m\u001b[0m__class__\u001b[0m\u001b[0;34m,\u001b[0m\u001b[0;34m\u001b[0m\u001b[0;34m\u001b[0m\u001b[0m\n",
      "\u001b[0;32m~/anaconda3/lib/python3.8/site-packages/astropy/io/ascii/core.py\u001b[0m in \u001b[0;36mread\u001b[0;34m(self, table)\u001b[0m\n\u001b[1;32m   1263\u001b[0m \u001b[0;34m\u001b[0m\u001b[0m\n\u001b[1;32m   1264\u001b[0m         \u001b[0;31m# Get a list of the lines (rows) in the table\u001b[0m\u001b[0;34m\u001b[0m\u001b[0;34m\u001b[0m\u001b[0;34m\u001b[0m\u001b[0m\n\u001b[0;32m-> 1265\u001b[0;31m         \u001b[0mself\u001b[0m\u001b[0;34m.\u001b[0m\u001b[0mlines\u001b[0m \u001b[0;34m=\u001b[0m \u001b[0mself\u001b[0m\u001b[0;34m.\u001b[0m\u001b[0minputter\u001b[0m\u001b[0;34m.\u001b[0m\u001b[0mget_lines\u001b[0m\u001b[0;34m(\u001b[0m\u001b[0mtable\u001b[0m\u001b[0;34m,\u001b[0m \u001b[0mnewline\u001b[0m\u001b[0;34m=\u001b[0m\u001b[0mnewline\u001b[0m\u001b[0;34m)\u001b[0m\u001b[0;34m\u001b[0m\u001b[0;34m\u001b[0m\u001b[0m\n\u001b[0m\u001b[1;32m   1266\u001b[0m \u001b[0;34m\u001b[0m\u001b[0m\n\u001b[1;32m   1267\u001b[0m         \u001b[0;31m# Set self.data.data_lines to a slice of lines contain the data rows\u001b[0m\u001b[0;34m\u001b[0m\u001b[0;34m\u001b[0m\u001b[0;34m\u001b[0m\u001b[0m\n",
      "\u001b[0;32m~/anaconda3/lib/python3.8/site-packages/astropy/io/ascii/core.py\u001b[0m in \u001b[0;36mget_lines\u001b[0;34m(self, table, newline)\u001b[0m\n\u001b[1;32m    303\u001b[0m             if (hasattr(table, 'read')\n\u001b[1;32m    304\u001b[0m                     or ('\\n' not in table + '' and '\\r' not in table + '')):\n\u001b[0;32m--> 305\u001b[0;31m                 with get_readable_fileobj(table,\n\u001b[0m\u001b[1;32m    306\u001b[0m                                           encoding=self.encoding) as fileobj:\n\u001b[1;32m    307\u001b[0m                     \u001b[0mtable\u001b[0m \u001b[0;34m=\u001b[0m \u001b[0mfileobj\u001b[0m\u001b[0;34m.\u001b[0m\u001b[0mread\u001b[0m\u001b[0;34m(\u001b[0m\u001b[0;34m)\u001b[0m\u001b[0;34m\u001b[0m\u001b[0;34m\u001b[0m\u001b[0m\n",
      "\u001b[0;32m~/anaconda3/lib/python3.8/contextlib.py\u001b[0m in \u001b[0;36m__enter__\u001b[0;34m(self)\u001b[0m\n\u001b[1;32m    111\u001b[0m         \u001b[0;32mdel\u001b[0m \u001b[0mself\u001b[0m\u001b[0;34m.\u001b[0m\u001b[0margs\u001b[0m\u001b[0;34m,\u001b[0m \u001b[0mself\u001b[0m\u001b[0;34m.\u001b[0m\u001b[0mkwds\u001b[0m\u001b[0;34m,\u001b[0m \u001b[0mself\u001b[0m\u001b[0;34m.\u001b[0m\u001b[0mfunc\u001b[0m\u001b[0;34m\u001b[0m\u001b[0;34m\u001b[0m\u001b[0m\n\u001b[1;32m    112\u001b[0m         \u001b[0;32mtry\u001b[0m\u001b[0;34m:\u001b[0m\u001b[0;34m\u001b[0m\u001b[0;34m\u001b[0m\u001b[0m\n\u001b[0;32m--> 113\u001b[0;31m             \u001b[0;32mreturn\u001b[0m \u001b[0mnext\u001b[0m\u001b[0;34m(\u001b[0m\u001b[0mself\u001b[0m\u001b[0;34m.\u001b[0m\u001b[0mgen\u001b[0m\u001b[0;34m)\u001b[0m\u001b[0;34m\u001b[0m\u001b[0;34m\u001b[0m\u001b[0m\n\u001b[0m\u001b[1;32m    114\u001b[0m         \u001b[0;32mexcept\u001b[0m \u001b[0mStopIteration\u001b[0m\u001b[0;34m:\u001b[0m\u001b[0;34m\u001b[0m\u001b[0;34m\u001b[0m\u001b[0m\n\u001b[1;32m    115\u001b[0m             \u001b[0;32mraise\u001b[0m \u001b[0mRuntimeError\u001b[0m\u001b[0;34m(\u001b[0m\u001b[0;34m\"generator didn't yield\"\u001b[0m\u001b[0;34m)\u001b[0m \u001b[0;32mfrom\u001b[0m \u001b[0;32mNone\u001b[0m\u001b[0;34m\u001b[0m\u001b[0;34m\u001b[0m\u001b[0m\n",
      "\u001b[0;32m~/anaconda3/lib/python3.8/site-packages/astropy/utils/data.py\u001b[0m in \u001b[0;36mget_readable_fileobj\u001b[0;34m(name_or_obj, encoding, cache, show_progress, remote_timeout, sources, http_headers)\u001b[0m\n\u001b[1;32m    250\u001b[0m                 \u001b[0mtimeout\u001b[0m\u001b[0;34m=\u001b[0m\u001b[0mremote_timeout\u001b[0m\u001b[0;34m,\u001b[0m \u001b[0msources\u001b[0m\u001b[0;34m=\u001b[0m\u001b[0msources\u001b[0m\u001b[0;34m,\u001b[0m\u001b[0;34m\u001b[0m\u001b[0;34m\u001b[0m\u001b[0m\n\u001b[1;32m    251\u001b[0m                 http_headers=http_headers)\n\u001b[0;32m--> 252\u001b[0;31m         \u001b[0mfileobj\u001b[0m \u001b[0;34m=\u001b[0m \u001b[0mio\u001b[0m\u001b[0;34m.\u001b[0m\u001b[0mFileIO\u001b[0m\u001b[0;34m(\u001b[0m\u001b[0mname_or_obj\u001b[0m\u001b[0;34m,\u001b[0m \u001b[0;34m'r'\u001b[0m\u001b[0;34m)\u001b[0m\u001b[0;34m\u001b[0m\u001b[0;34m\u001b[0m\u001b[0m\n\u001b[0m\u001b[1;32m    253\u001b[0m         \u001b[0;32mif\u001b[0m \u001b[0mis_url\u001b[0m \u001b[0;32mand\u001b[0m \u001b[0;32mnot\u001b[0m \u001b[0mcache\u001b[0m\u001b[0;34m:\u001b[0m\u001b[0;34m\u001b[0m\u001b[0;34m\u001b[0m\u001b[0m\n\u001b[1;32m    254\u001b[0m             \u001b[0mdelete_fds\u001b[0m\u001b[0;34m.\u001b[0m\u001b[0mappend\u001b[0m\u001b[0;34m(\u001b[0m\u001b[0mfileobj\u001b[0m\u001b[0;34m)\u001b[0m\u001b[0;34m\u001b[0m\u001b[0;34m\u001b[0m\u001b[0m\n",
      "\u001b[0;31mFileNotFoundError\u001b[0m: [Errno 2] No such file or directory: '../data/SFR_z0_sims-FIRE2_500MyrLBT.txt'"
     ]
    }
   ],
   "source": [
    "# reading in values for FIRE sims\n",
    "data_sim = ascii.read('../data/SFR_z0_sims-FIRE2_500MyrLBT.txt')\n",
    "simID = data_sim['col1']\n",
    "mass_sim = data_sim['col2']\n",
    "SFR_sim = data_sim['col3']\n",
    "sSFR_sim = data_sim['col4']"
   ]
  },
  {
   "cell_type": "code",
   "execution_count": 6,
   "metadata": {},
   "outputs": [],
   "source": [
    "# reading in best-fit points for McGaugh et al. 2017\n",
    "data_M17 = ascii.read('../data/SFR_M17_bestfit.txt')\n",
    "mass_M17 = data_M17['m']\n",
    "sSFR_M17 = data_M17['ssfr']\n",
    "sSFR_M17_low = data_M17['ssfr_low']\n",
    "sSFR_M17_high = data_M17['ssfr_high']"
   ]
  },
  {
   "cell_type": "code",
   "execution_count": 7,
   "metadata": {},
   "outputs": [],
   "source": [
    "# reading in best-fit points from sanchez-menguiano et al. 2019\n",
    "data_SM19 = ascii.read('../data/SFR_SM19_bestfit.txt')\n",
    "mass_SM19 = data_SM19['m']\n",
    "sSFR_SM19 = data_SM19['ssfr']\n",
    "sSFR_SM19_low = data_SM19['ssfr_low']\n",
    "sSFR_SM19_high = data_SM19['ssfr_high']"
   ]
  },
  {
   "cell_type": "code",
   "execution_count": 8,
   "metadata": {},
   "outputs": [],
   "source": [
    "# defining x axis range for which to plot the various best-fit lines\n",
    "newMass = np.logspace(8.5, 12, base=10)"
   ]
  },
  {
   "cell_type": "code",
   "execution_count": 9,
   "metadata": {},
   "outputs": [],
   "source": [
    "# compilation of M* and SFRX values from Aird et al. 2017\n",
    "mass_A17 = np.array([10**8.625, 10**8.875, 10**9.125, 10**9.375, 10**9.625, 10**9.875, \\\n",
    "            10**10.125, 10**10.375, 10**10.625, 10**10.875, 10**11.125, 10**11.375])\n",
    "SFR_A17 = np.array([10**-0.71, 10**-0.83, 10**-0.28, 10**0.11, 10**0.25, 10**0.32, 10**0.41, \\\n",
    "           10**0.55, 10**0.86, 10**1.23, 10**1.21, 10**1.23])\n",
    "SFR_A17_lower = np.array([10**-1.19, 10**-1.18, 10**-0.52, 10**-0.42, 10**-0.04, 10**0.08, \\\n",
    "                 10**0.21, 10**0.41, 10**0.79, 10**1, 10**0.84, 10**0.94])\n",
    "SFR_A17_upper = np.array([10**-0.23, 10**-0.36, 10**-0.09, 10**0.35, 10**0.42, 10**0.51, \\\n",
    "                 10**0.59, 10**0.68, 10**0.94, 10**1.41, 10**1.57, 10**1.51])\n",
    "sSFR_A17 = np.true_divide(SFR_A17, mass_A17)\n",
    "sSFR_A17_lower = np.true_divide(SFR_A17_lower, mass_A17)\n",
    "sSFR_A17_upper = np.true_divide(SFR_A17_upper, mass_A17)\n",
    "\n",
    "# calculating best fit line for Aird et al. 2017\n",
    "popt_SFR_A17, pcov_SFR_A17 = curve_fit(powerLaw, mass_A17, SFR_A17)\n",
    "popt_sSFR_A17, pcov_sSFR_A17 = curve_fit(powerLaw, mass_A17, sSFR_A17)\n",
    "SFR_A17_yfit = powerLaw(newMass,*popt_SFR_A17)\n",
    "sSFR_A17_yfit = np.divide(SFR_A17_yfit, newMass)"
   ]
  },
  {
   "cell_type": "code",
   "execution_count": 10,
   "metadata": {},
   "outputs": [],
   "source": [
    "# best fit SFR parameters from Johnston et al. 2015 for log10(SFR) = alpha*log10(Mstar) \n",
    "# + beta where alpha=0.82 and beta = -7.86\n",
    "SFR_J15 = (np.power(newMass,0.82))*(10**-7.86)\n",
    "sSFR_J15 = np.divide(SFR_J15, newMass)"
   ]
  },
  {
   "cell_type": "code",
   "execution_count": 11,
   "metadata": {},
   "outputs": [],
   "source": [
    "# best fir SFR parameters from Magnelli et al. 2014 for log10(SFR) = a + blog(Mstar)\n",
    "# where a = -15.11, b = 2.27\n",
    "SFR_M14 = (np.power(newMass,2.27))*(10**-15.11)\n",
    "sSFR_M14 = np.divide(SFR_M14, newMass)"
   ]
  },
  {
   "cell_type": "code",
   "execution_count": 12,
   "metadata": {},
   "outputs": [],
   "source": [
    "# compilation of M* and SFR values from Ilbert et al. 2015\n",
    "mass_I15 = np.array([10**9.75, 10**10.25, 10**10.75, 10**11.25])\n",
    "sSFR_I15 = np.array([10**-0.675, 10**-0.727, 10**-1.041, 10**-1.433])\n",
    "sSFR_I15 = np.divide(sSFR_I15, 10**9)         #because they quote in Gyr^-1\n",
    "SFR_I15 = np.multiply(sSFR_I15, mass_I15)\n",
    "\n",
    "# calculating the best fit line for Ilbert et al. 2015\n",
    "popt_SFR_I15, pcov_SFR_I15 = curve_fit(powerLaw, mass_I15, SFR_I15)\n",
    "popt_sSFR_I15, pcov_sSFR_I15 = curve_fit(powerLaw, mass_I15, sSFR_I15)\n",
    "SFR_I15_yfit = powerLaw(newMass,*popt_SFR_I15)\n",
    "sSFR_I15_yfit = np.divide(SFR_I15_yfit, newMass)"
   ]
  },
  {
   "cell_type": "code",
   "execution_count": 13,
   "metadata": {},
   "outputs": [],
   "source": [
    "# best fit SFR parameters from Whitaker et al. 2012 for log10(SFR) = a(logMstar-10.5) + b with\n",
    "# a = 0.70 and b = 0.38 at z=0\n",
    "newMass_W12 = np.logspace(8, 11, base=10)\n",
    "SFR_W12 = (np.power((np.divide(newMass_W12,10**10.5)),0.70))*(10**0.38)\n",
    "sSFR_W12 = np.divide(SFR_W12, newMass_W12)"
   ]
  },
  {
   "cell_type": "code",
   "execution_count": 14,
   "metadata": {},
   "outputs": [],
   "source": [
    "# z=0 SFMS with scatter from Speagle et al. 2014\n",
    "newMass_S14 = np.array([10**9.71, 10**11.128])\n",
    "SFR_S14 = np.array([10**0.254, 10**0.463])\n",
    "SFR_S14_lower = np.array([10**0.211, 10**0.385])\n",
    "SFR_S14_upper = np.array([10**0.303, 10**0.556])\n",
    "sSFR_S14 = np.divide(SFR_S14, newMass_S14)\n",
    "sSFR_S14_lower = np.divide(SFR_S14_lower, newMass_S14)\n",
    "sSFR_S14_upper = np.divide(SFR_S14_upper, newMass_S14)"
   ]
  },
  {
   "cell_type": "code",
   "execution_count": 15,
   "metadata": {},
   "outputs": [],
   "source": [
    "# best-fit mean linear regression from Popesso et al. 2018 (WISE+Ha)\n",
    "newMass_P18 = np.logspace(10, 11.5, num=100)\n",
    "a_P18 = 0.36; b_P18 = -3.57\n",
    "SFR_P18 = (10**b_P18)*(np.power(newMass_P18, a_P18))\n",
    "sSFR_P18 = np.divide(SFR_P18, newMass_P18)"
   ]
  },
  {
   "cell_type": "code",
   "execution_count": 16,
   "metadata": {},
   "outputs": [],
   "source": [
    "# reading in z=0 sSFR values from UniverseMachine (Behroozi et al. 2019)\n",
    "data_B19 = ascii.read('../data/behroozi+19_sSFR_z0.txt')\n",
    "mass_B19 = np.array(data_B19['stellarMass'])\n",
    "sSFR_B19 = data_B19['sSFR']\n",
    "sSFR_B19_high = data_B19['sSFR_high']\n",
    "sSFR_B19_low = data_B19['sSFR_low']\n",
    "inds_B19 = np.argsort(mass_B19)\n",
    "mass_B19 = np.sort(mass_B19)\n",
    "sSFR_B19 = sSFR_B19[inds_B19]\n",
    "sSFR_B19_high = sSFR_B19_high[inds_B19]\n",
    "sSFR_B19_low = sSFR_B19_low[inds_B19]\n",
    "mask = mass_B19 >= 10**8\n",
    "mass_B19 = mass_B19[mask]\n",
    "sSFR_B19 = sSFR_B19[mask]\n",
    "sSFR_B19_high = sSFR_B19_high[mask]\n",
    "sSFR_B19_low = sSFR_B19_low[mask]"
   ]
  },
  {
   "cell_type": "markdown",
   "metadata": {},
   "source": [
    "#### Plot: sSFR vs $M_*$"
   ]
  },
  {
   "cell_type": "code",
   "execution_count": 6,
   "metadata": {},
   "outputs": [
    {
     "ename": "NameError",
     "evalue": "name 'mass_A17' is not defined",
     "output_type": "error",
     "traceback": [
      "\u001b[0;31m---------------------------------------------------------------------------\u001b[0m",
      "\u001b[0;31mNameError\u001b[0m                                 Traceback (most recent call last)",
      "\u001b[0;32m<ipython-input-6-049d900f3ba3>\u001b[0m in \u001b[0;36m<module>\u001b[0;34m\u001b[0m\n\u001b[1;32m      6\u001b[0m \u001b[0;34m\u001b[0m\u001b[0m\n\u001b[1;32m      7\u001b[0m \u001b[0;31m# plotting sSFR vs mass with error bars for Aird et al. 2017\u001b[0m\u001b[0;34m\u001b[0m\u001b[0;34m\u001b[0m\u001b[0;34m\u001b[0m\u001b[0m\n\u001b[0;32m----> 8\u001b[0;31m \u001b[0max\u001b[0m\u001b[0;34m.\u001b[0m\u001b[0mplot\u001b[0m\u001b[0;34m(\u001b[0m\u001b[0mmass_A17\u001b[0m\u001b[0;34m,\u001b[0m \u001b[0msSFR_A17\u001b[0m\u001b[0;34m,\u001b[0m \u001b[0mc\u001b[0m\u001b[0;34m=\u001b[0m\u001b[0;34m'blue'\u001b[0m\u001b[0;34m,\u001b[0m \u001b[0mlw\u001b[0m\u001b[0;34m=\u001b[0m\u001b[0;36m5\u001b[0m\u001b[0;34m,\u001b[0m \u001b[0mls\u001b[0m\u001b[0;34m=\u001b[0m\u001b[0;34m'dotted'\u001b[0m\u001b[0;34m,\u001b[0m \u001b[0malpha\u001b[0m\u001b[0;34m=\u001b[0m\u001b[0;36m1\u001b[0m\u001b[0;34m,\u001b[0m \u001b[0mlabel\u001b[0m\u001b[0;34m=\u001b[0m\u001b[0;34m'Aird+17'\u001b[0m\u001b[0;34m)\u001b[0m\u001b[0;34m\u001b[0m\u001b[0;34m\u001b[0m\u001b[0m\n\u001b[0m\u001b[1;32m      9\u001b[0m ax.fill_between(mass_A17, sSFR_A17_lower, sSFR_A17_upper, color='blue', alpha=0.3, \\\n\u001b[1;32m     10\u001b[0m                 label=None)\n",
      "\u001b[0;31mNameError\u001b[0m: name 'mass_A17' is not defined"
     ]
    },
    {
     "data": {
      "image/png": "[encoded data removed]",
      "text/plain": [
       "<Figure size 1080x468 with 2 Axes>"
      ]
     },
     "metadata": {
      "needs_background": "light"
     },
     "output_type": "display_data"
    }
   ],
   "source": [
    "# initialising figure\n",
    "fig, ax = plt.subplots(1,1)\n",
    "ax2 = ax.twinx()\n",
    "fig.set_tight_layout(False)\n",
    "fig.subplots_adjust(left=0.12, right=0.97, top=0.97, bottom=0.17, wspace=0)\n",
    "\n",
    "# plotting sSFR vs mass with error bars for Aird et al. 2017\n",
    "ax.plot(mass_A17, sSFR_A17, c='blue', lw=5, ls='dotted', alpha=1, label='Aird+17')\n",
    "ax.fill_between(mass_A17, sSFR_A17_lower, sSFR_A17_upper, color='blue', alpha=0.3, \\\n",
    "                label=None)\n",
    "\n",
    "# plotting sSFR vs mass fits for Ilbert et al. 2015\n",
    "ax.plot(newMass, sSFR_I15_yfit, c='magenta', lw=5, ls='dotted', \\\n",
    "         alpha=1, label='Ilbert+15')\n",
    "\n",
    "# plotting sSFR vs mass fit for Johnston et al. 2015\n",
    "ax.plot(newMass, sSFR_J15, c='orange', lw=5, ls='dashed', alpha=1, \\\n",
    "         label='Johnston+15')\n",
    "\n",
    "# plotting sSFR vs mass fit with CI for McGaugh et al. 2017\n",
    "ax.plot(mass_M17, sSFR_M17, c='darkorchid', linestyle='dashdot', lw=5, \n",
    "        alpha=1, label='McGaugh+17')\n",
    "ax.fill_between(mass_M17, sSFR_M17_low, sSFR_M17_high, color='darkorchid', \\\n",
    "                alpha=0.3, label=None)\n",
    "\n",
    "# plotting SFR vs mass for Popesso et al. 2018\n",
    "ax.plot(newMass_P18, sSFR_P18, c='lime', lw=5, ls='dashed', alpha=1, label='Popesso+19')\n",
    "\n",
    "# plotting sSFR vs mass fit with CI for Sanchez-Menguiano et al. 2019\n",
    "ax.plot(mass_SM19, sSFR_SM19, c='deepskyblue', lw=5, alpha=1, \n",
    "        linestyle='dotted', label='Sanchez-Menguiano+17')\n",
    "ax.fill_between(mass_SM19, sSFR_SM19_low, sSFR_SM19_high, color='deepskyblue', \\\n",
    "                alpha=0.3, label=None)\n",
    "\n",
    "# plotting SFR vs mass with scatter for Speagle et al. 2014\n",
    "ax.plot(newMass_S14, sSFR_S14, c='wheat', lw=5, ls='dashed', alpha=1, label='Speagle+14')\n",
    "ax.fill_between(newMass_S14, sSFR_S14_lower, sSFR_S14_upper, color='wheat', \\\n",
    "                alpha=0.75, label=None)\n",
    "\n",
    "# plotting sSFR vs mass fits for Whitaker et al. 2012\n",
    "ax.plot(newMass_W12, sSFR_W12, c='green', lw=5, ls='dashdot', \\\n",
    "         alpha=1, label='Whitaker+12')\n",
    "\n",
    "# plotting sSFR vs mass for UniverseMachine\n",
    "ax.plot(mass_B19, sSFR_B19, c='k', lw=5, ls='solid', \\\n",
    "        alpha=1.0, zorder=100, label='UM (Behroozi+19)')\n",
    "ax.fill_between(mass_B19, sSFR_B19_low, sSFR_B19_high, color='k', \\\n",
    "                alpha=0.3, label=None)\n",
    "\n",
    "# plotting sSFR vs mass for all sims\n",
    "ax2.scatter(mass_sim, sSFR_sim, c='r', marker='o', s=200, alpha=1.0, \\\n",
    "           edgecolors='black', linewidths=2, zorder=10000, label='FIRE-2')\n",
    "\n",
    "# specifying rest of lower plot\n",
    "ax.set_xlabel(\"Stellar Mass [$\\\\rm{M}_{\\odot}$]\")\n",
    "ax.set_ylabel(\"sSFR [$\\\\rm{yr^{-1}}$]\")\n",
    "ax.loglog()\n",
    "ax2.loglog()\n",
    "ax.set_xlim(10**7, 10**11.4)\n",
    "ax.set_ylim(10**-11.25, 10**-7.5)\n",
    "ax2.set_xlim(10**7, 10**11.4)\n",
    "ax2.set_ylim(10**-11.25, 10**-7.5)\n",
    "\n",
    "# specifying rest of overall figure parameter\n",
    "ax.legend(prop={'size':18}, loc='upper left', ncol=3)\n",
    "ax2.legend(prop={'size':18}, loc='upper right', ncol=1)\n",
    "ax2.get_yaxis().set_visible(False)\n",
    "plt.savefig('../plots/figure1.pdf')\n",
    "plt.show()\n",
    "plt.clf()"
   ]
  },
  {
   "cell_type": "code",
   "execution_count": null,
   "metadata": {},
   "outputs": [],
   "source": []
  }
 ],
 "metadata": {
  "kernelspec": {
   "display_name": "Python 3",
   "language": "python",
   "name": "python3"
  },
  "language_info": {
   "codemirror_mode": {
    "name": "ipython",
    "version": 3
   },
   "file_extension": ".py",
   "mimetype": "text/x-python",
   "name": "python",
   "nbconvert_exporter": "python",
   "pygments_lexer": "ipython3",
   "version": "3.8.8"
  }
 },
 "nbformat": 4,
 "nbformat_minor": 2
}
